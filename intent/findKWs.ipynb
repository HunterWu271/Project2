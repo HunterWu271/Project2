{
 "cells": [
  {
   "cell_type": "code",
   "execution_count": 4,
   "metadata": {},
   "outputs": [],
   "source": [
    "import re\n",
    "\n",
    "def findKWs(pattern, posSTR):\n",
    "    pat = re.compile(pattern)\n",
    "    matches = pat.search(posSTR).groups()\n",
    "    return enumerate(matches)\n"
   ]
  },
  {
   "cell_type": "code",
   "execution_count": 5,
   "metadata": {},
   "outputs": [
    {
     "data": {
      "text/plain": [
       "[(0, '30000台幣'),\n",
       " (1, '<MODAL>可以</MODAL>'),\n",
       " (2, 'ACTION_verb'),\n",
       " (3, '換'),\n",
       " (4, 'ACTION_verb'),\n",
       " (5, '<CLAUSE_HowQ>多少</CLAUSE_HowQ>'),\n",
       " (6, '<ENTITY_noun>元</ENTITY_noun>'),\n",
       " (7, 'ENTITY_noun'),\n",
       " (8, 'noun'),\n",
       " (9, 'ENTITY_noun'),\n",
       " (10, 'noun'),\n",
       " (11, 'ENTITY_noun'),\n",
       " (12, 'noun'),\n",
       " (13, '美金'),\n",
       " (14, 'ENTITY_noun'),\n",
       " (15, 'noun')]"
      ]
     },
     "execution_count": 5,
     "metadata": {},
     "output_type": "execute_result"
    }
   ],
   "source": [
    "posSTR = \"<KNOWLEDGE_currency>30000台幣</KNOWLEDGE_currency><MODAL>可以</MODAL><ACTION_verb>換</ACTION_verb><CLAUSE_HowQ>多少</CLAUSE_HowQ><ENTITY_noun>元</ENTITY_noun><ENTITY_noun>美金</ENTITY_noun>\"\n",
    "pat = \"<KNOWLEDGE_currency>([^<]+台幣)</KNOWLEDGE_currency>(<MODAL>[^<]+</MODAL>)?<(ACTION_verb|VerbP)>(兌?換|買)</(ACTION_verb|VerbP)>(<CLAUSE_HowQ>[^<]+</CLAUSE_HowQ>)?(<(UserDefined|ENTITY_(nounHead|nouny|noun|oov|classifier))>[元塊]</(UserDefined|ENTITY_(nounHead|nouny|noun|oov|classifier))>)?<(UserDefined|ENTITY_(nounHead|nouny|noun|oov))>(\\\\w+)</(UserDefined|ENTITY_(nounHead|nouny|noun|oov))>\"\n",
    "list(findKWs(pat, posSTR))"
   ]
  },
  {
   "cell_type": "code",
   "execution_count": null,
   "metadata": {},
   "outputs": [],
   "source": []
  }
 ],
 "metadata": {
  "kernelspec": {
   "display_name": "PythonAndNLP1",
   "language": "python",
   "name": "python3"
  },
  "language_info": {
   "codemirror_mode": {
    "name": "ipython",
    "version": 3
   },
   "file_extension": ".py",
   "mimetype": "text/x-python",
   "name": "python",
   "nbconvert_exporter": "python",
   "pygments_lexer": "ipython3",
   "version": "3.11.9"
  }
 },
 "nbformat": 4,
 "nbformat_minor": 2
}
